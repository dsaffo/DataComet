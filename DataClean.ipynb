{
 "cells": [
  {
   "cell_type": "code",
   "execution_count": null,
   "metadata": {},
   "outputs": [],
   "source": [
    "import pandas as pd"
   ]
  },
  {
   "cell_type": "code",
   "execution_count": null,
   "metadata": {},
   "outputs": [],
   "source": [
    "files = ['_vehicle_gps_position_0','_cpuload_0','_battery_status_0','_radio_status_0','_vehicle_air_data_0','_vehicle_land_detected_0']\n",
    "def getFiles(name,location):\n",
    "    data = []\n",
    "    for f in files:\n",
    "        data.append(pd.read_csv(location+'/'+name+f+'.csv'))\n",
    "    return data"
   ]
  },
  {
   "cell_type": "code",
   "execution_count": null,
   "metadata": {},
   "outputs": [],
   "source": [
    "data = getFiles('milestone3TestData','data')"
   ]
  },
  {
   "cell_type": "code",
   "execution_count": null,
   "metadata": {},
   "outputs": [],
   "source": [
    "data[0].tail()"
   ]
  },
  {
   "cell_type": "code",
   "execution_count": null,
   "metadata": {},
   "outputs": [],
   "source": [
    "def getData(data, cols):\n",
    "    df = pd.DataFrame()\n",
    "    times = data['timestamp']\n",
    "    prevTime = -1\n",
    "    for t in times:\n",
    "        currentTime = int(t/1000000)\n",
    "        if currentTime != prevTime:\n",
    "            prevTime = currentTime\n",
    "            row = data.loc[data['timestamp'] == t]\n",
    "            df = df.append(row[cols])\n",
    "            #print (row[cols])\n",
    "    return df\n",
    "    "
   ]
  },
  {
   "cell_type": "code",
   "execution_count": null,
   "metadata": {},
   "outputs": [],
   "source": [
    "gps = getData(data[0], ['timestamp','time_utc_usec','lat','lon','alt','noise_per_ms','jamming_indicator','vel_m_s','heading','satellites_used']).reset_index(drop=True)\n",
    "cpu = getData(data[1], ['load','ram_usage']).reset_index(drop=True)\n",
    "battery = getData(data[2], ['voltage_filtered_v','remaining','warning','discharged_mah']).reset_index(drop=True)\n",
    "radio = getData(data[3], ['noise','remote_noise','txbuf','rssi','remote_rssi','rxerrors','fix']).reset_index(drop=True)\n",
    "air = getData(data[4],['baro_temp_celcius','baro_pressure_pa']).reset_index(drop=True)\n",
    "land = getData(data[5],['landed','ground_contact']).reset_index(drop=True)"
   ]
  },
  {
   "cell_type": "code",
   "execution_count": null,
   "metadata": {},
   "outputs": [],
   "source": [
    "df = pd.DataFrame()\n",
    "df = pd.concat([df,gps,cpu,battery,radio,air,land],axis=1, sort=False)\n",
    "df = df[:-2]\n",
    "df['time'] = df.index"
   ]
  },
  {
   "cell_type": "code",
   "execution_count": null,
   "metadata": {},
   "outputs": [],
   "source": [
    "df"
   ]
  },
  {
   "cell_type": "code",
   "execution_count": null,
   "metadata": {},
   "outputs": [],
   "source": [
    "df.to_csv('milestone3.csv')"
   ]
  },
  {
   "cell_type": "code",
   "execution_count": null,
   "metadata": {},
   "outputs": [],
   "source": []
  }
 ],
 "metadata": {
  "language_info": {
   "name": "python",
   "pygments_lexer": "ipython3"
  }
 },
 "nbformat": 4,
 "nbformat_minor": 2
}
